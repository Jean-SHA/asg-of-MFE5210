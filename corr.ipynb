{
 "cells": [
  {
   "cell_type": "code",
   "execution_count": 1,
   "metadata": {},
   "outputs": [],
   "source": [
    "import pandas as pd\n",
    "import numpy as np\n",
    "import matplotlib.pyplot as plt\n",
    "from sklearn.decomposition import FactorAnalysis\n",
    "from collections import OrderedDict  #保持Key的顺序\n",
    "from datetime import datetime,date,timedelta\n",
    "import matplotlib.pyplot as plt # 画图用\n",
    "import pickle  # 打包\n",
    "\n",
    "plt.style.use('ggplot')  # 设置图表风格\n",
    "import warnings  \n",
    "warnings.filterwarnings('ignore') \n",
    "\n"
   ]
  },
  {
   "cell_type": "code",
   "execution_count": 3,
   "metadata": {},
   "outputs": [
    {
     "data": {
      "text/plain": [
       "{'10D':                          returns      risk  momentum\n",
       " date       codes                                    \n",
       " 2022-01-04 000001.XSHE  0.993034  0.025034 -0.887088\n",
       "            000002.XSHE  0.965046  0.025034 -0.915076\n",
       "            000006.XSHE  1.270476  0.025034 -0.609646\n",
       "            000007.XSHE  0.963145  0.025034 -0.916977\n",
       "            000008.XSHE  0.954545  0.025034 -0.925577\n",
       " ...                          ...       ...       ...\n",
       " 2022-12-30 605580.XSHG  0.973841  0.025034 -0.906282\n",
       "            605588.XSHG  0.927267  0.025034 -0.952856\n",
       "            605589.XSHG  0.948752  0.025034 -0.931370\n",
       "            605598.XSHG  0.879886  0.025034 -1.000237\n",
       "            605599.XSHG  1.023631  0.025034 -0.856492\n",
       " \n",
       " [732776 rows x 3 columns],\n",
       " '5D':                          returns      risk  momentum\n",
       " date       codes                                    \n",
       " 2022-01-04 000001.XSHE  1.019873  0.025308 -0.901605\n",
       "            000002.XSHE  0.993255  0.025308 -0.928223\n",
       "            000006.XSHE  1.212727  0.025308 -0.708750\n",
       "            000007.XSHE  0.972705  0.025308 -0.948773\n",
       "            000008.XSHE  0.991416  0.025308 -0.930061\n",
       " ...                          ...       ...       ...\n",
       " 2022-12-30 605580.XSHG  1.002448  0.025308 -0.919029\n",
       "            605588.XSHG  0.987496  0.025308 -0.933982\n",
       "            605589.XSHG  0.926861  0.025308 -0.994616\n",
       "            605598.XSHG  0.922539  0.025308 -0.998939\n",
       "            605599.XSHG  1.043812  0.025308 -0.877666\n",
       " \n",
       " [732776 rows x 3 columns]}"
      ]
     },
     "execution_count": 3,
     "metadata": {},
     "output_type": "execute_result"
    }
   ],
   "source": [
    "pkl_file = open('factor.pkl', 'rb')\n",
    "mom_factor = pd.read_pickle(pkl_file)\n",
    "pkl_file.close()\n",
    "mom_factor"
   ]
  },
  {
   "cell_type": "code",
   "execution_count": 10,
   "metadata": {},
   "outputs": [],
   "source": [
    "factor_5D=mom_factor['5D']['momentum']\n",
    "factor_10D=mom_factor['10D']['momentum']"
   ]
  },
  {
   "cell_type": "code",
   "execution_count": 13,
   "metadata": {},
   "outputs": [
    {
     "data": {
      "text/html": [
       "<div>\n",
       "<style scoped>\n",
       "    .dataframe tbody tr th:only-of-type {\n",
       "        vertical-align: middle;\n",
       "    }\n",
       "\n",
       "    .dataframe tbody tr th {\n",
       "        vertical-align: top;\n",
       "    }\n",
       "\n",
       "    .dataframe thead th {\n",
       "        text-align: right;\n",
       "    }\n",
       "</style>\n",
       "<table border=\"1\" class=\"dataframe\">\n",
       "  <thead>\n",
       "    <tr style=\"text-align: right;\">\n",
       "      <th></th>\n",
       "      <th>date</th>\n",
       "      <th>codes</th>\n",
       "      <th>momentum</th>\n",
       "    </tr>\n",
       "  </thead>\n",
       "  <tbody>\n",
       "    <tr>\n",
       "      <th>0</th>\n",
       "      <td>2022-01-04</td>\n",
       "      <td>000001.XSHE</td>\n",
       "      <td>-0.901605</td>\n",
       "    </tr>\n",
       "    <tr>\n",
       "      <th>1</th>\n",
       "      <td>2022-01-04</td>\n",
       "      <td>000002.XSHE</td>\n",
       "      <td>-0.928223</td>\n",
       "    </tr>\n",
       "    <tr>\n",
       "      <th>2</th>\n",
       "      <td>2022-01-04</td>\n",
       "      <td>000006.XSHE</td>\n",
       "      <td>-0.708750</td>\n",
       "    </tr>\n",
       "    <tr>\n",
       "      <th>3</th>\n",
       "      <td>2022-01-04</td>\n",
       "      <td>000007.XSHE</td>\n",
       "      <td>-0.948773</td>\n",
       "    </tr>\n",
       "    <tr>\n",
       "      <th>4</th>\n",
       "      <td>2022-01-04</td>\n",
       "      <td>000008.XSHE</td>\n",
       "      <td>-0.930061</td>\n",
       "    </tr>\n",
       "  </tbody>\n",
       "</table>\n",
       "</div>"
      ],
      "text/plain": [
       "        date        codes  momentum\n",
       "0 2022-01-04  000001.XSHE -0.901605\n",
       "1 2022-01-04  000002.XSHE -0.928223\n",
       "2 2022-01-04  000006.XSHE -0.708750\n",
       "3 2022-01-04  000007.XSHE -0.948773\n",
       "4 2022-01-04  000008.XSHE -0.930061"
      ]
     },
     "execution_count": 13,
     "metadata": {},
     "output_type": "execute_result"
    }
   ],
   "source": [
    "factor_5D=factor_5D.reset_index()\n",
    "factor_5D.head()"
   ]
  },
  {
   "cell_type": "code",
   "execution_count": 16,
   "metadata": {},
   "outputs": [
    {
     "data": {
      "text/html": [
       "<div>\n",
       "<style scoped>\n",
       "    .dataframe tbody tr th:only-of-type {\n",
       "        vertical-align: middle;\n",
       "    }\n",
       "\n",
       "    .dataframe tbody tr th {\n",
       "        vertical-align: top;\n",
       "    }\n",
       "\n",
       "    .dataframe thead th {\n",
       "        text-align: right;\n",
       "    }\n",
       "</style>\n",
       "<table border=\"1\" class=\"dataframe\">\n",
       "  <thead>\n",
       "    <tr style=\"text-align: right;\">\n",
       "      <th></th>\n",
       "      <th>index</th>\n",
       "      <th>date</th>\n",
       "      <th>codes</th>\n",
       "      <th>momentum</th>\n",
       "    </tr>\n",
       "  </thead>\n",
       "  <tbody>\n",
       "    <tr>\n",
       "      <th>0</th>\n",
       "      <td>0</td>\n",
       "      <td>2022-01-04</td>\n",
       "      <td>000001.XSHE</td>\n",
       "      <td>-0.887088</td>\n",
       "    </tr>\n",
       "    <tr>\n",
       "      <th>1</th>\n",
       "      <td>1</td>\n",
       "      <td>2022-01-04</td>\n",
       "      <td>000002.XSHE</td>\n",
       "      <td>-0.915076</td>\n",
       "    </tr>\n",
       "    <tr>\n",
       "      <th>2</th>\n",
       "      <td>2</td>\n",
       "      <td>2022-01-04</td>\n",
       "      <td>000006.XSHE</td>\n",
       "      <td>-0.609646</td>\n",
       "    </tr>\n",
       "    <tr>\n",
       "      <th>3</th>\n",
       "      <td>3</td>\n",
       "      <td>2022-01-04</td>\n",
       "      <td>000007.XSHE</td>\n",
       "      <td>-0.916977</td>\n",
       "    </tr>\n",
       "    <tr>\n",
       "      <th>4</th>\n",
       "      <td>4</td>\n",
       "      <td>2022-01-04</td>\n",
       "      <td>000008.XSHE</td>\n",
       "      <td>-0.925577</td>\n",
       "    </tr>\n",
       "  </tbody>\n",
       "</table>\n",
       "</div>"
      ],
      "text/plain": [
       "   index       date        codes  momentum\n",
       "0      0 2022-01-04  000001.XSHE -0.887088\n",
       "1      1 2022-01-04  000002.XSHE -0.915076\n",
       "2      2 2022-01-04  000006.XSHE -0.609646\n",
       "3      3 2022-01-04  000007.XSHE -0.916977\n",
       "4      4 2022-01-04  000008.XSHE -0.925577"
      ]
     },
     "execution_count": 16,
     "metadata": {},
     "output_type": "execute_result"
    }
   ],
   "source": [
    "factor_10D=factor_10D.reset_index()\n",
    "factor_10D.head()"
   ]
  },
  {
   "cell_type": "code",
   "execution_count": 15,
   "metadata": {},
   "outputs": [
    {
     "data": {
      "text/html": [
       "<div>\n",
       "<style scoped>\n",
       "    .dataframe tbody tr th:only-of-type {\n",
       "        vertical-align: middle;\n",
       "    }\n",
       "\n",
       "    .dataframe tbody tr th {\n",
       "        vertical-align: top;\n",
       "    }\n",
       "\n",
       "    .dataframe thead th {\n",
       "        text-align: right;\n",
       "    }\n",
       "</style>\n",
       "<table border=\"1\" class=\"dataframe\">\n",
       "  <thead>\n",
       "    <tr style=\"text-align: right;\">\n",
       "      <th></th>\n",
       "      <th>date</th>\n",
       "      <th>codes</th>\n",
       "      <th>momentum_x</th>\n",
       "      <th>momentum_y</th>\n",
       "    </tr>\n",
       "  </thead>\n",
       "  <tbody>\n",
       "    <tr>\n",
       "      <th>0</th>\n",
       "      <td>2022-01-04</td>\n",
       "      <td>000001.XSHE</td>\n",
       "      <td>-0.887088</td>\n",
       "      <td>-0.901605</td>\n",
       "    </tr>\n",
       "    <tr>\n",
       "      <th>1</th>\n",
       "      <td>2022-01-04</td>\n",
       "      <td>000002.XSHE</td>\n",
       "      <td>-0.915076</td>\n",
       "      <td>-0.928223</td>\n",
       "    </tr>\n",
       "    <tr>\n",
       "      <th>2</th>\n",
       "      <td>2022-01-04</td>\n",
       "      <td>000006.XSHE</td>\n",
       "      <td>-0.609646</td>\n",
       "      <td>-0.708750</td>\n",
       "    </tr>\n",
       "    <tr>\n",
       "      <th>3</th>\n",
       "      <td>2022-01-04</td>\n",
       "      <td>000007.XSHE</td>\n",
       "      <td>-0.916977</td>\n",
       "      <td>-0.948773</td>\n",
       "    </tr>\n",
       "    <tr>\n",
       "      <th>4</th>\n",
       "      <td>2022-01-04</td>\n",
       "      <td>000008.XSHE</td>\n",
       "      <td>-0.925577</td>\n",
       "      <td>-0.930061</td>\n",
       "    </tr>\n",
       "  </tbody>\n",
       "</table>\n",
       "</div>"
      ],
      "text/plain": [
       "        date        codes  momentum_x  momentum_y\n",
       "0 2022-01-04  000001.XSHE   -0.887088   -0.901605\n",
       "1 2022-01-04  000002.XSHE   -0.915076   -0.928223\n",
       "2 2022-01-04  000006.XSHE   -0.609646   -0.708750\n",
       "3 2022-01-04  000007.XSHE   -0.916977   -0.948773\n",
       "4 2022-01-04  000008.XSHE   -0.925577   -0.930061"
      ]
     },
     "execution_count": 15,
     "metadata": {},
     "output_type": "execute_result"
    }
   ],
   "source": [
    "df=pd.merge(factor_10D,factor_5D,on=['date','codes'],how='inner')\n",
    "df.head()"
   ]
  },
  {
   "cell_type": "code",
   "execution_count": 17,
   "metadata": {},
   "outputs": [
    {
     "data": {
      "text/html": [
       "<div>\n",
       "<style scoped>\n",
       "    .dataframe tbody tr th:only-of-type {\n",
       "        vertical-align: middle;\n",
       "    }\n",
       "\n",
       "    .dataframe tbody tr th {\n",
       "        vertical-align: top;\n",
       "    }\n",
       "\n",
       "    .dataframe thead th {\n",
       "        text-align: right;\n",
       "    }\n",
       "</style>\n",
       "<table border=\"1\" class=\"dataframe\">\n",
       "  <thead>\n",
       "    <tr style=\"text-align: right;\">\n",
       "      <th></th>\n",
       "      <th></th>\n",
       "      <th>momentum_x</th>\n",
       "      <th>momentum_y</th>\n",
       "    </tr>\n",
       "    <tr>\n",
       "      <th>date</th>\n",
       "      <th>codes</th>\n",
       "      <th></th>\n",
       "      <th></th>\n",
       "    </tr>\n",
       "  </thead>\n",
       "  <tbody>\n",
       "    <tr>\n",
       "      <th rowspan=\"5\" valign=\"top\">2022-01-04</th>\n",
       "      <th>000001.XSHE</th>\n",
       "      <td>-0.887088</td>\n",
       "      <td>-0.901605</td>\n",
       "    </tr>\n",
       "    <tr>\n",
       "      <th>000002.XSHE</th>\n",
       "      <td>-0.915076</td>\n",
       "      <td>-0.928223</td>\n",
       "    </tr>\n",
       "    <tr>\n",
       "      <th>000006.XSHE</th>\n",
       "      <td>-0.609646</td>\n",
       "      <td>-0.708750</td>\n",
       "    </tr>\n",
       "    <tr>\n",
       "      <th>000007.XSHE</th>\n",
       "      <td>-0.916977</td>\n",
       "      <td>-0.948773</td>\n",
       "    </tr>\n",
       "    <tr>\n",
       "      <th>000008.XSHE</th>\n",
       "      <td>-0.925577</td>\n",
       "      <td>-0.930061</td>\n",
       "    </tr>\n",
       "  </tbody>\n",
       "</table>\n",
       "</div>"
      ],
      "text/plain": [
       "                        momentum_x  momentum_y\n",
       "date       codes                              \n",
       "2022-01-04 000001.XSHE   -0.887088   -0.901605\n",
       "           000002.XSHE   -0.915076   -0.928223\n",
       "           000006.XSHE   -0.609646   -0.708750\n",
       "           000007.XSHE   -0.916977   -0.948773\n",
       "           000008.XSHE   -0.925577   -0.930061"
      ]
     },
     "execution_count": 17,
     "metadata": {},
     "output_type": "execute_result"
    }
   ],
   "source": [
    "df.set_index(['date','codes'],inplace=True)\n",
    "df.head()"
   ]
  },
  {
   "cell_type": "code",
   "execution_count": 18,
   "metadata": {},
   "outputs": [
    {
     "data": {
      "text/html": [
       "<div>\n",
       "<style scoped>\n",
       "    .dataframe tbody tr th:only-of-type {\n",
       "        vertical-align: middle;\n",
       "    }\n",
       "\n",
       "    .dataframe tbody tr th {\n",
       "        vertical-align: top;\n",
       "    }\n",
       "\n",
       "    .dataframe thead th {\n",
       "        text-align: right;\n",
       "    }\n",
       "</style>\n",
       "<table border=\"1\" class=\"dataframe\">\n",
       "  <thead>\n",
       "    <tr style=\"text-align: right;\">\n",
       "      <th></th>\n",
       "      <th>momentum_x</th>\n",
       "      <th>momentum_y</th>\n",
       "    </tr>\n",
       "  </thead>\n",
       "  <tbody>\n",
       "    <tr>\n",
       "      <th>momentum_x</th>\n",
       "      <td>1.000000</td>\n",
       "      <td>0.756604</td>\n",
       "    </tr>\n",
       "    <tr>\n",
       "      <th>momentum_y</th>\n",
       "      <td>0.756604</td>\n",
       "      <td>1.000000</td>\n",
       "    </tr>\n",
       "  </tbody>\n",
       "</table>\n",
       "</div>"
      ],
      "text/plain": [
       "            momentum_x  momentum_y\n",
       "momentum_x    1.000000    0.756604\n",
       "momentum_y    0.756604    1.000000"
      ]
     },
     "execution_count": 18,
     "metadata": {},
     "output_type": "execute_result"
    }
   ],
   "source": [
    "corr_date=df.corr()\n",
    "corr_date"
   ]
  },
  {
   "cell_type": "code",
   "execution_count": 19,
   "metadata": {},
   "outputs": [
    {
     "data": {
      "image/png": "[encoded data removed]",
      "text/plain": [
       "<Figure size 432x288 with 2 Axes>"
      ]
     },
     "metadata": {},
     "output_type": "display_data"
    }
   ],
   "source": [
    "import seaborn as sns\n",
    "ax=sns.heatmap(corr_date)"
   ]
  },
  {
   "cell_type": "code",
   "execution_count": null,
   "metadata": {},
   "outputs": [],
   "source": []
  }
 ],
 "metadata": {
  "kernelspec": {
   "display_name": "Python 3",
   "language": "python",
   "name": "python3"
  },
  "language_info": {
   "codemirror_mode": {
    "name": "ipython",
    "version": 3
   },
   "file_extension": ".py",
   "mimetype": "text/x-python",
   "name": "python",
   "nbconvert_exporter": "python",
   "pygments_lexer": "ipython3",
   "version": "3.8.5"
  }
 },
 "nbformat": 4,
 "nbformat_minor": 4
}
